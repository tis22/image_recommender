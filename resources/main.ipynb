{
 "cells": [
  {
   "cell_type": "code",
   "execution_count": 1,
   "metadata": {},
   "outputs": [],
   "source": [
    "from data_processing import *\n",
    "from image_features import *\n",
    "from database_operations import *\n",
    "from similarity import *\n",
    "from visualization import *\n",
    "from dimensionality import *\n",
    "import pandas as pd\n",
    "import sqlite3\n",
    "import numpy as np"
   ]
  },
  {
   "cell_type": "markdown",
   "metadata": {},
   "source": [
    "# Image retrival"
   ]
  },
  {
   "cell_type": "code",
   "execution_count": 2,
   "metadata": {},
   "outputs": [],
   "source": [
    "batch_size = 1000\n",
    "desired_size = (224, 224)"
   ]
  },
  {
   "cell_type": "code",
   "execution_count": null,
   "metadata": {},
   "outputs": [],
   "source": [
    "# Call the function to process images\n",
    "main_load_images(batch_size, desired_size)"
   ]
  },
  {
   "cell_type": "markdown",
   "metadata": {},
   "source": [
    "# Create Database"
   ]
  },
  {
   "cell_type": "code",
   "execution_count": 5,
   "metadata": {},
   "outputs": [],
   "source": [
    "# Create the database\n",
    "create_database()\n",
    "\n",
    "# Load the path data\n",
    "path_df = pd.read_pickle(\"Path.pkl\")\n",
    "connection = sqlite3.connect(\"database/bd_database.db\")"
   ]
  },
  {
   "cell_type": "code",
   "execution_count": 7,
   "metadata": {},
   "outputs": [],
   "source": [
    "# Change the drive letter if necessary\n",
    "old_drive_letter = \"D\"\n",
    "new_drive_letter = \"F\"\n",
    "path_df[\"Path\"] = path_df[\"Path\"].apply(lambda path: path.replace(f\"{old_drive_letter}:\", f\"{new_drive_letter}:\"))"
   ]
  },
  {
   "cell_type": "code",
   "execution_count": null,
   "metadata": {},
   "outputs": [],
   "source": [
    "# Correct data inconsistencies if any\n",
    "# initialize_data()\n",
    "# correct_data()"
   ]
  },
  {
   "cell_type": "code",
   "execution_count": 9,
   "metadata": {},
   "outputs": [],
   "source": [
    "# Save the data to the database\n",
    "save_to_db(path_df, connection)"
   ]
  },
  {
   "cell_type": "markdown",
   "metadata": {},
   "source": [
    "# Calculate similarities"
   ]
  },
  {
   "cell_type": "code",
   "execution_count": 4,
   "metadata": {},
   "outputs": [],
   "source": [
    "# Load pickles for similarity computation\n",
    "initialize_data()"
   ]
  },
  {
   "cell_type": "code",
   "execution_count": null,
   "metadata": {},
   "outputs": [],
   "source": [
    "# Find similarities using RGB, Euclidean distance, and display top 5 results\n",
    "main_finding_similarities(1, \"RGB\", \"euclidean\", 5)"
   ]
  },
  {
   "cell_type": "markdown",
   "metadata": {},
   "source": [
    "# Dimensionality reduction"
   ]
  },
  {
   "cell_type": "code",
   "execution_count": 14,
   "metadata": {},
   "outputs": [],
   "source": [
    "# Load embedding data for dimensionality reduction\n",
    "# right_data = pd.read_pickle(\"Embedding.pkl\")\n",
    "# df_to_reduce = np.vstack(right_data['Embedding'].values)"
   ]
  },
  {
   "cell_type": "code",
   "execution_count": 15,
   "metadata": {},
   "outputs": [],
   "source": [
    "# df_from_pickle = pd.read_pickle(\"Embedding.pkl\")\n",
    "# df_to_reduce = np.vstack(df_from_pickle['Embedding'].values)\n",
    "# print(len(df_to_reduce))\n",
    "# print(len(df_to_reduce[0]))"
   ]
  },
  {
   "cell_type": "code",
   "execution_count": 12,
   "metadata": {},
   "outputs": [],
   "source": [
    "# %%time\n",
    "# reduced_data = reduce_dimensionality(df_to_reduce, \"tsne\", 2)\n",
    "# save_dimensionality_results(reduced_data, \"tsne\")"
   ]
  },
  {
   "cell_type": "code",
   "execution_count": 13,
   "metadata": {},
   "outputs": [],
   "source": [
    "# %%time\n",
    "# clusters = create_clusters(df_to_reduce, 100)\n",
    "# save_dimensionality_results(clusters, \"kmeans\")"
   ]
  },
  {
   "cell_type": "code",
   "execution_count": 14,
   "metadata": {},
   "outputs": [],
   "source": [
    "# # Create clusters based on tsne-results\n",
    "# %%time\n",
    "# clusters = create_clusters(dimensions_tsne, 100)\n",
    "# save_dimensionality_results(clusters, \"tsne_kmeans\")"
   ]
  },
  {
   "cell_type": "markdown",
   "metadata": {},
   "source": [
    "# Plotting the results"
   ]
  },
  {
   "cell_type": "code",
   "execution_count": null,
   "metadata": {},
   "outputs": [],
   "source": [
    "# Loading and plotting results\n",
    "dimensions_tsne = np.load(\"tsne_results.npy\")\n",
    "lables = np.load(\"kmeans_results_100.npy\")\n",
    "plot_dimensionality_reduction(dimensions_tsne, labels=lables, output_file=\"plot_tsne_2d.html\")"
   ]
  },
  {
   "cell_type": "code",
   "execution_count": null,
   "metadata": {},
   "outputs": [],
   "source": [
    "# Plot some images\n",
    "images_to_plot = [435873, 23657, 436051, 42668, 431471, 435909]\n",
    "plot_selected_images(images_to_plot)"
   ]
  }
 ],
 "metadata": {
  "kernelspec": {
   "display_name": "Python 3 (ipykernel)",
   "language": "python",
   "name": "python3"
  },
  "language_info": {
   "codemirror_mode": {
    "name": "ipython",
    "version": 3
   },
   "file_extension": ".py",
   "mimetype": "text/x-python",
   "name": "python",
   "nbconvert_exporter": "python",
   "pygments_lexer": "ipython3",
   "version": "3.11.5"
  }
 },
 "nbformat": 4,
 "nbformat_minor": 2
}
