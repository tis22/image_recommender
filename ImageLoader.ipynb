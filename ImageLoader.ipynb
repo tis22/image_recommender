{
 "cells": [
  {
   "cell_type": "code",
   "execution_count": 9,
   "metadata": {},
   "outputs": [],
   "source": [
    "import os\n",
    "import numpy as np\n",
    "import pandas as pd\n",
    "from tqdm.notebook import tqdm\n",
    "from matplotlib import pyplot as plt\n",
    "from PIL import Image, ExifTags\n",
    "import uuid"
   ]
  },
  {
   "cell_type": "code",
   "execution_count": 10,
   "metadata": {},
   "outputs": [
    {
     "name": "stdout",
     "output_type": "stream",
     "text": [
      "Anzahl gefundener Bilder: 2056\n",
      "Einige der gefundenen Bildpfade: ['/Users/test/Documents/Uni/4.Semester/Big_Data/image_recommender/resources/small_data_batch/image_data/DIV2k/DIV2K_train_HR/DIV2K_train_HR/0298.png', '/Users/test/Documents/Uni/4.Semester/Big_Data/image_recommender/resources/small_data_batch/image_data/DIV2k/DIV2K_train_HR/DIV2K_train_HR/0267.png', '/Users/test/Documents/Uni/4.Semester/Big_Data/image_recommender/resources/small_data_batch/image_data/DIV2k/DIV2K_train_HR/DIV2K_train_HR/0501.png', '/Users/test/Documents/Uni/4.Semester/Big_Data/image_recommender/resources/small_data_batch/image_data/DIV2k/DIV2K_train_HR/DIV2K_train_HR/0515.png', '/Users/test/Documents/Uni/4.Semester/Big_Data/image_recommender/resources/small_data_batch/image_data/DIV2k/DIV2K_train_HR/DIV2K_train_HR/0273.png', '/Users/test/Documents/Uni/4.Semester/Big_Data/image_recommender/resources/small_data_batch/image_data/DIV2k/DIV2K_train_HR/DIV2K_train_HR/0529.png', '/Users/test/Documents/Uni/4.Semester/Big_Data/image_recommender/resources/small_data_batch/image_data/DIV2k/DIV2K_train_HR/DIV2K_train_HR/0703.png', '/Users/test/Documents/Uni/4.Semester/Big_Data/image_recommender/resources/small_data_batch/image_data/DIV2k/DIV2K_train_HR/DIV2K_train_HR/0065.png', '/Users/test/Documents/Uni/4.Semester/Big_Data/image_recommender/resources/small_data_batch/image_data/DIV2k/DIV2K_train_HR/DIV2K_train_HR/0071.png', '/Users/test/Documents/Uni/4.Semester/Big_Data/image_recommender/resources/small_data_batch/image_data/DIV2k/DIV2K_train_HR/DIV2K_train_HR/0717.png']\n"
     ]
    }
   ],
   "source": [
    "def find_image_files(root_dir, extensions=('.jpg', '.jpeg', '.png', '.bmp', '.tiff', '.tif')):\n",
    "    image_files = []\n",
    "    for subdir, dir, files in os.walk(root_dir):\n",
    "        for file in files:\n",
    "            if file.lower().endswith(extensions):\n",
    "                image_files.append(os.path.join(subdir, file))\n",
    "    return image_files\n",
    "\n",
    "# Verwenden der Funktion, um Bildpfade aus dem 'data'-Verzeichnis zu sammeln\n",
    "image_paths = find_image_files(os.getcwd() + '/resources/small_data_batch')\n",
    "\n",
    "# Anzeigen der Anzahl der gefundenen Bilder und der ersten 10 Bildpfade zur Überprüfung\n",
    "print(f\"Anzahl gefundener Bilder: {len(image_paths)}\")\n",
    "if len(image_paths) > 10:\n",
    "    print(\"Einige der gefundenen Bildpfade:\", image_paths[:10])\n",
    "else:\n",
    "    print(\"Gefundene Bildpfade:\", image_paths)\n"
   ]
  },
  {
   "cell_type": "code",
   "execution_count": 11,
   "metadata": {},
   "outputs": [],
   "source": [
    "def extract_image_details(image_path):\n",
    "    with Image.open(image_path) as img:\n",
    "        img = img.convert('RGB')  # Konvertierung zu RGB\n",
    "        \n",
    "        # Farbwerte und Helligkeit\n",
    "        pixels = list(img.getdata())\n",
    "        avg_color = tuple(sum(col) // len(pixels) for col in zip(*pixels))\n",
    "        avg_brightness = sum(sum(pixel) for pixel in pixels) // (3 * len(pixels))\n",
    "        \n",
    "        # Auflösung und DPI\n",
    "        resolution = img.size  # (width, height)\n",
    "        dpi = img.info.get('dpi', (0, 0)) \n",
    "        \n",
    "        # Metadaten extrahieren\n",
    "        try:\n",
    "            exif_data = img._getexif()\n",
    "            metadata = {ExifTags.TAGS[k]: v for k, v in exif_data.items() if k in ExifTags.TAGS} if exif_data else {}\n",
    "        except AttributeError:\n",
    "            metadata = {}\n",
    "\n",
    "        # Dateidetails\n",
    "        file_size = os.path.getsize(image_path)\n",
    "        file_type = os.path.splitext(image_path)[1]\n",
    "        \n",
    "        # UUID\n",
    "        unique_id = str(uuid.uuid4())\n",
    "    \n",
    "    return {\n",
    "        'ID': unique_id,\n",
    "        'File_Path': image_path,\n",
    "        'Average_Color': avg_color,\n",
    "        'Brightness': avg_brightness,\n",
    "        'Resolution': resolution,\n",
    "        'DPI': dpi,\n",
    "        'File_Size': file_size,\n",
    "        'File_Type': file_type,\n",
    "        'Metadata': metadata\n",
    "    }"
   ]
  },
  {
   "cell_type": "code",
   "execution_count": 12,
   "metadata": {},
   "outputs": [],
   "source": [
    "def image_batch_generator(image_files, batch_size=5):\n",
    "    total_batches = (len(image_files) + batch_size - 1) // batch_size\n",
    "    progress_bar = tqdm(total=total_batches, desc=\"Processing images\")\n",
    "    \n",
    "    for index in range(0, len(image_files), batch_size):\n",
    "        batch = image_files[index:index + batch_size]\n",
    "        details_list = [extract_image_details(image_path) for image_path in batch]\n",
    "        df = pd.DataFrame(details_list)\n",
    "        yield df\n",
    "        progress_bar.update(1)\n",
    "    \n",
    "    progress_bar.close() "
   ]
  },
  {
   "cell_type": "code",
   "execution_count": 13,
   "metadata": {},
   "outputs": [
    {
     "data": {
      "application/vnd.jupyter.widget-view+json": {
       "model_id": "0c3f92fb3540404cbbcd39b6b08fb7fd",
       "version_major": 2,
       "version_minor": 0
      },
      "text/plain": [
       "Processing images:   0%|          | 0/412 [00:00<?, ?it/s]"
      ]
     },
     "metadata": {},
     "output_type": "display_data"
    },
    {
     "ename": "KeyboardInterrupt",
     "evalue": "",
     "output_type": "error",
     "traceback": [
      "\u001b[0;31m---------------------------------------------------------------------------\u001b[0m",
      "\u001b[0;31mKeyboardInterrupt\u001b[0m                         Traceback (most recent call last)",
      "Cell \u001b[0;32mIn[13], line 1\u001b[0m\n\u001b[0;32m----> 1\u001b[0m \u001b[39mfor\u001b[39;49;00m image_data \u001b[39min\u001b[39;49;00m image_batch_generator(image_paths):\n\u001b[1;32m      2\u001b[0m     \u001b[39mprint\u001b[39;49m(image_data) \n\u001b[1;32m      3\u001b[0m \u001b[39m# Hier SQLite Logik\u001b[39;00m\n",
      "Cell \u001b[0;32mIn[12], line 7\u001b[0m, in \u001b[0;36mimage_batch_generator\u001b[0;34m(image_files, batch_size)\u001b[0m\n\u001b[1;32m      5\u001b[0m \u001b[39mfor\u001b[39;00m index \u001b[39min\u001b[39;00m \u001b[39mrange\u001b[39m(\u001b[39m0\u001b[39m, \u001b[39mlen\u001b[39m(image_files), batch_size):\n\u001b[1;32m      6\u001b[0m     batch \u001b[39m=\u001b[39m image_files[index:index \u001b[39m+\u001b[39m batch_size]\n\u001b[0;32m----> 7\u001b[0m     details_list \u001b[39m=\u001b[39m [extract_image_details(image_path) \u001b[39mfor\u001b[39;00m image_path \u001b[39min\u001b[39;00m batch]\n\u001b[1;32m      8\u001b[0m     df \u001b[39m=\u001b[39m pd\u001b[39m.\u001b[39mDataFrame(details_list)\n\u001b[1;32m      9\u001b[0m     \u001b[39myield\u001b[39;00m df\n",
      "Cell \u001b[0;32mIn[11], line 8\u001b[0m, in \u001b[0;36mextract_image_details\u001b[0;34m(image_path)\u001b[0m\n\u001b[1;32m      6\u001b[0m pixels \u001b[39m=\u001b[39m \u001b[39mlist\u001b[39m(img\u001b[39m.\u001b[39mgetdata())\n\u001b[1;32m      7\u001b[0m avg_color \u001b[39m=\u001b[39m \u001b[39mtuple\u001b[39m(\u001b[39msum\u001b[39m(col) \u001b[39m/\u001b[39m\u001b[39m/\u001b[39m \u001b[39mlen\u001b[39m(pixels) \u001b[39mfor\u001b[39;00m col \u001b[39min\u001b[39;00m \u001b[39mzip\u001b[39m(\u001b[39m*\u001b[39mpixels))\n\u001b[0;32m----> 8\u001b[0m avg_brightness \u001b[39m=\u001b[39m \u001b[39msum\u001b[39;49m(\u001b[39msum\u001b[39;49m(pixel) \u001b[39mfor\u001b[39;49;00m pixel \u001b[39min\u001b[39;49;00m pixels) \u001b[39m/\u001b[39m\u001b[39m/\u001b[39m (\u001b[39m3\u001b[39m \u001b[39m*\u001b[39m \u001b[39mlen\u001b[39m(pixels))\n\u001b[1;32m     10\u001b[0m \u001b[39m# Auflösung und DPI\u001b[39;00m\n\u001b[1;32m     11\u001b[0m resolution \u001b[39m=\u001b[39m img\u001b[39m.\u001b[39msize  \u001b[39m# (width, height)\u001b[39;00m\n",
      "Cell \u001b[0;32mIn[11], line 8\u001b[0m, in \u001b[0;36m<genexpr>\u001b[0;34m(.0)\u001b[0m\n\u001b[1;32m      6\u001b[0m pixels \u001b[39m=\u001b[39m \u001b[39mlist\u001b[39m(img\u001b[39m.\u001b[39mgetdata())\n\u001b[1;32m      7\u001b[0m avg_color \u001b[39m=\u001b[39m \u001b[39mtuple\u001b[39m(\u001b[39msum\u001b[39m(col) \u001b[39m/\u001b[39m\u001b[39m/\u001b[39m \u001b[39mlen\u001b[39m(pixels) \u001b[39mfor\u001b[39;00m col \u001b[39min\u001b[39;00m \u001b[39mzip\u001b[39m(\u001b[39m*\u001b[39mpixels))\n\u001b[0;32m----> 8\u001b[0m avg_brightness \u001b[39m=\u001b[39m \u001b[39msum\u001b[39m(\u001b[39msum\u001b[39m(pixel) \u001b[39mfor\u001b[39;00m pixel \u001b[39min\u001b[39;00m pixels) \u001b[39m/\u001b[39m\u001b[39m/\u001b[39m (\u001b[39m3\u001b[39m \u001b[39m*\u001b[39m \u001b[39mlen\u001b[39m(pixels))\n\u001b[1;32m     10\u001b[0m \u001b[39m# Auflösung und DPI\u001b[39;00m\n\u001b[1;32m     11\u001b[0m resolution \u001b[39m=\u001b[39m img\u001b[39m.\u001b[39msize  \u001b[39m# (width, height)\u001b[39;00m\n",
      "\u001b[0;31mKeyboardInterrupt\u001b[0m: "
     ]
    }
   ],
   "source": [
    "\n",
    "for image_data in image_batch_generator(image_paths):\n",
    "    print(image_data) \n",
    "# Hier SQLite Logik"
   ]
  },
  {
   "cell_type": "code",
   "execution_count": null,
   "metadata": {},
   "outputs": [],
   "source": []
  }
 ],
 "metadata": {
  "kernelspec": {
   "display_name": "BigData",
   "language": "python",
   "name": "python3"
  },
  "language_info": {
   "codemirror_mode": {
    "name": "ipython",
    "version": 3
   },
   "file_extension": ".py",
   "mimetype": "text/x-python",
   "name": "python",
   "nbconvert_exporter": "python",
   "pygments_lexer": "ipython3",
   "version": "3.12.2"
  },
  "orig_nbformat": 4
 },
 "nbformat": 4,
 "nbformat_minor": 2
}
